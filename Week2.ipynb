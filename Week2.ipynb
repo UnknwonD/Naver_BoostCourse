{
 "cells": [
  {
   "cell_type": "markdown",
   "metadata": {},
   "source": [
    "### 데이터 불러오기"
   ]
  },
  {
   "cell_type": "code",
   "execution_count": 1,
   "metadata": {},
   "outputs": [
    {
     "data": {
      "text/plain": [
       "(91335, 39)"
      ]
     },
     "execution_count": 1,
     "metadata": {},
     "output_type": "execute_result"
    }
   ],
   "source": [
    "import pandas as pd\n",
    "df = pd.read_csv(\"https://raw.githubusercontent.com/corazzon/boostcourse-ds-510/master/data/medical_201909.csv.zip\", low_memory=False)\n",
    "df.shape"
   ]
  },
  {
   "cell_type": "markdown",
   "metadata": {},
   "source": [
    "### 📌 Q1. 전국 시도별 약국수를 구해주세요!\n",
    "\n",
    "상권업종소분류명이 약국인 것을 찾아 빈도수를 구해주세요. </br>\n",
    "이 때, value_counts, groupby, pivot_table 등 다양한 집계 방법을 통해 구해볼 수 있습니다. </br>\n",
    "각자 구하기 편한 방법을 통해 빈도수를 구합니다. </br>\n",
    "다음의 결과가 나오도록 구합니다. </br>\n",
    "| 지역           | 수치  |\n",
    "|----------------|------|\n",
    "| 경기도         | 4510 |\n",
    "| 서울특별시     | 3579 |\n",
    "| 부산광역시     | 1130 |\n",
    "| 경상남도       | 1017 |\n",
    "| 인천광역시     | 1002 |\n",
    "| 경상북도       | 915  |\n",
    "| 대구광역시     | 870  |\n",
    "| 전라북도       | 862  |\n",
    "| 충청남도       | 830  |\n",
    "| 전라남도       | 811  |\n",
    "| 강원도         | 729  |\n",
    "| 광주광역시     | 691  |\n",
    "| 충청북도       | 648  |\n",
    "| 대전광역시     | 603  |\n",
    "| 울산광역시     | 362  |\n",
    "| 제주특별자치도 | 226  |\n",
    "| 세종특별자치시 | 99   |\n"
   ]
  },
  {
   "cell_type": "code",
   "execution_count": 9,
   "metadata": {},
   "outputs": [
    {
     "name": "stdout",
     "output_type": "stream",
     "text": [
      "Index(['상가업소번호', '상호명', '지점명', '상권업종대분류코드', '상권업종대분류명', '상권업종중분류코드',\n",
      "       '상권업종중분류명', '상권업종소분류코드', '상권업종소분류명', '표준산업분류코드', '표준산업분류명', '시도코드',\n",
      "       '시도명', '시군구코드', '시군구명', '행정동코드', '행정동명', '법정동코드', '법정동명', '지번코드',\n",
      "       '대지구분코드', '대지구분명', '지번본번지', '지번부번지', '지번주소', '도로명코드', '도로명', '건물본번지',\n",
      "       '건물부번지', '건물관리번호', '건물명', '도로명주소', '구우편번호', '신우편번호', '동정보', '층정보',\n",
      "       '호정보', '경도', '위도'],\n",
      "      dtype='object')\n",
      "==================================================\n"
     ]
    },
    {
     "data": {
      "text/plain": [
       "상권업종중분류명\n",
       "병원          60774\n",
       "약국/한약방      20923\n",
       "수의업          5323\n",
       "유사의료업        3774\n",
       "의료관련서비스업      541\n",
       "Name: count, dtype: int64"
      ]
     },
     "execution_count": 9,
     "metadata": {},
     "output_type": "execute_result"
    }
   ],
   "source": [
    "print(df.columns)\n",
    "print('=' * 50)\n",
    "df[\"상권업종중분류명\"].value_counts()"
   ]
  },
  {
   "cell_type": "code",
   "execution_count": 48,
   "metadata": {},
   "outputs": [
    {
     "data": {
      "text/plain": [
       "시도명\n",
       "강원도         729\n",
       "경기도        4510\n",
       "경상남도       1017\n",
       "경상북도        915\n",
       "광주광역시       691\n",
       "대구광역시       870\n",
       "대전광역시       603\n",
       "부산광역시      1130\n",
       "서울특별시      3579\n",
       "세종특별자치시      99\n",
       "울산광역시       362\n",
       "인천광역시      1002\n",
       "전라남도        811\n",
       "전라북도        862\n",
       "제주특별자치도     226\n",
       "충청남도        830\n",
       "충청북도        648\n",
       "dtype: int64"
      ]
     },
     "execution_count": 48,
     "metadata": {},
     "output_type": "execute_result"
    }
   ],
   "source": [
    "# groupby\n",
    "df[df[\"상권업종소분류명\"] == '약국'].groupby('시도명').size()"
   ]
  },
  {
   "cell_type": "code",
   "execution_count": 49,
   "metadata": {},
   "outputs": [
    {
     "data": {
      "text/plain": [
       "시도명\n",
       "경기도        4510\n",
       "서울특별시      3579\n",
       "부산광역시      1130\n",
       "경상남도       1017\n",
       "인천광역시      1002\n",
       "경상북도        915\n",
       "대구광역시       870\n",
       "전라북도        862\n",
       "충청남도        830\n",
       "전라남도        811\n",
       "강원도         729\n",
       "광주광역시       691\n",
       "충청북도        648\n",
       "대전광역시       603\n",
       "울산광역시       362\n",
       "제주특별자치도     226\n",
       "세종특별자치시      99\n",
       "Name: count, dtype: int64"
      ]
     },
     "execution_count": 49,
     "metadata": {},
     "output_type": "execute_result"
    }
   ],
   "source": [
    "# value_counts\n",
    "df[df[\"상권업종소분류명\"] == '약국']['시도명'].value_counts()"
   ]
  },
  {
   "cell_type": "code",
   "execution_count": 50,
   "metadata": {},
   "outputs": [
    {
     "data": {
      "text/html": [
       "<div>\n",
       "<style scoped>\n",
       "    .dataframe tbody tr th:only-of-type {\n",
       "        vertical-align: middle;\n",
       "    }\n",
       "\n",
       "    .dataframe tbody tr th {\n",
       "        vertical-align: top;\n",
       "    }\n",
       "\n",
       "    .dataframe thead th {\n",
       "        text-align: right;\n",
       "    }\n",
       "</style>\n",
       "<table border=\"1\" class=\"dataframe\">\n",
       "  <thead>\n",
       "    <tr style=\"text-align: right;\">\n",
       "      <th></th>\n",
       "      <th>시도명</th>\n",
       "      <th>빈도수</th>\n",
       "    </tr>\n",
       "  </thead>\n",
       "  <tbody>\n",
       "    <tr>\n",
       "      <th>0</th>\n",
       "      <td>강원도</td>\n",
       "      <td>729</td>\n",
       "    </tr>\n",
       "    <tr>\n",
       "      <th>1</th>\n",
       "      <td>경기도</td>\n",
       "      <td>4510</td>\n",
       "    </tr>\n",
       "    <tr>\n",
       "      <th>2</th>\n",
       "      <td>경상남도</td>\n",
       "      <td>1017</td>\n",
       "    </tr>\n",
       "    <tr>\n",
       "      <th>3</th>\n",
       "      <td>경상북도</td>\n",
       "      <td>915</td>\n",
       "    </tr>\n",
       "    <tr>\n",
       "      <th>4</th>\n",
       "      <td>광주광역시</td>\n",
       "      <td>691</td>\n",
       "    </tr>\n",
       "    <tr>\n",
       "      <th>5</th>\n",
       "      <td>대구광역시</td>\n",
       "      <td>870</td>\n",
       "    </tr>\n",
       "    <tr>\n",
       "      <th>6</th>\n",
       "      <td>대전광역시</td>\n",
       "      <td>603</td>\n",
       "    </tr>\n",
       "    <tr>\n",
       "      <th>7</th>\n",
       "      <td>부산광역시</td>\n",
       "      <td>1130</td>\n",
       "    </tr>\n",
       "    <tr>\n",
       "      <th>8</th>\n",
       "      <td>서울특별시</td>\n",
       "      <td>3579</td>\n",
       "    </tr>\n",
       "    <tr>\n",
       "      <th>9</th>\n",
       "      <td>세종특별자치시</td>\n",
       "      <td>99</td>\n",
       "    </tr>\n",
       "    <tr>\n",
       "      <th>10</th>\n",
       "      <td>울산광역시</td>\n",
       "      <td>362</td>\n",
       "    </tr>\n",
       "    <tr>\n",
       "      <th>11</th>\n",
       "      <td>인천광역시</td>\n",
       "      <td>1002</td>\n",
       "    </tr>\n",
       "    <tr>\n",
       "      <th>12</th>\n",
       "      <td>전라남도</td>\n",
       "      <td>811</td>\n",
       "    </tr>\n",
       "    <tr>\n",
       "      <th>13</th>\n",
       "      <td>전라북도</td>\n",
       "      <td>862</td>\n",
       "    </tr>\n",
       "    <tr>\n",
       "      <th>14</th>\n",
       "      <td>제주특별자치도</td>\n",
       "      <td>226</td>\n",
       "    </tr>\n",
       "    <tr>\n",
       "      <th>15</th>\n",
       "      <td>충청남도</td>\n",
       "      <td>830</td>\n",
       "    </tr>\n",
       "    <tr>\n",
       "      <th>16</th>\n",
       "      <td>충청북도</td>\n",
       "      <td>648</td>\n",
       "    </tr>\n",
       "  </tbody>\n",
       "</table>\n",
       "</div>"
      ],
      "text/plain": [
       "        시도명   빈도수\n",
       "0       강원도   729\n",
       "1       경기도  4510\n",
       "2      경상남도  1017\n",
       "3      경상북도   915\n",
       "4     광주광역시   691\n",
       "5     대구광역시   870\n",
       "6     대전광역시   603\n",
       "7     부산광역시  1130\n",
       "8     서울특별시  3579\n",
       "9   세종특별자치시    99\n",
       "10    울산광역시   362\n",
       "11    인천광역시  1002\n",
       "12     전라남도   811\n",
       "13     전라북도   862\n",
       "14  제주특별자치도   226\n",
       "15     충청남도   830\n",
       "16     충청북도   648"
      ]
     },
     "execution_count": 50,
     "metadata": {},
     "output_type": "execute_result"
    }
   ],
   "source": [
    "# pivot_table\n",
    "df[df['상권업종소분류명'] == '약국'].pivot_table(\n",
    "    index='시도명', \n",
    "    values='상권업종소분류명',\n",
    "    aggfunc='count'\n",
    ").reset_index('시도명').rename(columns={\"상권업종소분류명\":\"빈도수\"})"
   ]
  },
  {
   "cell_type": "markdown",
   "metadata": {},
   "source": [
    "### 📌 Q2. 여러분은 반려동물과 관련된 사업을 하는 스타트업에 취업을 하여 상권분석을 해달라는 요청을 받았습니다. \n",
    "### 병원이나 약국은 인구나 유동인구가 많은 지역에 주로 위치하고 있습니다. 그렇다면 동물병원도 병원이나 약국이 많은 곳에 더 많이 있을까요?\n",
    "\n",
    "- 빈도수를 구하고 시각화 하여 동물병원이 어느 지역에 많은지 분석해 주세요!\n",
    "- 다음의 결과가 나오도록 구합니다.\n",
    "\n",
    "| 지역           | 수치  |\n",
    "|----------------|------|\n",
    "| 경기도         | 992  |\n",
    "| 서울특별시     | 557  |\n",
    "| 인천광역시     | 193  |\n",
    "| 경상북도       | 165  |\n",
    "| 경상남도       | 161  |\n",
    "| 부산광역시     | 153  |\n",
    "| 충청남도       | 131  |\n",
    "| 대구광역시     | 119  |\n",
    "| 전라북도       | 111  |\n",
    "| 강원도         | 85   |\n",
    "| 대전광역시     | 77   |\n",
    "| 전라남도       | 77   |\n",
    "| 충청북도       | 75   |\n",
    "| 광주광역시     | 71   |\n",
    "| 울산광역시     | 61   |\n",
    "| 제주특별자치도 | 46   |\n",
    "| 세종특별자치시 | 13   |\n"
   ]
  },
  {
   "cell_type": "code",
   "execution_count": 54,
   "metadata": {},
   "outputs": [
    {
     "data": {
      "text/plain": [
       "시도명\n",
       "강원도         85\n",
       "경기도        992\n",
       "경상남도       161\n",
       "경상북도       165\n",
       "광주광역시       71\n",
       "대구광역시      119\n",
       "대전광역시       77\n",
       "부산광역시      153\n",
       "서울특별시      557\n",
       "세종특별자치시     13\n",
       "울산광역시       61\n",
       "인천광역시      193\n",
       "전라남도        77\n",
       "전라북도       111\n",
       "제주특별자치도     46\n",
       "충청남도       131\n",
       "충청북도        75\n",
       "Name: 상권업종소분류명, dtype: int64"
      ]
     },
     "execution_count": 54,
     "metadata": {},
     "output_type": "execute_result"
    }
   ],
   "source": [
    "df[df['상권업종소분류명'] == '동물병원'].groupby(by='시도명')['상권업종소분류명'].count()"
   ]
  },
  {
   "cell_type": "markdown",
   "metadata": {},
   "source": [
    "### 📌Q3. 강남지역에는 다른 지역에 비해 피부과나 성형외과가 많아 보입니다. 실제로 해당 지역에 피부과나 성형외과가 다른 지역에 비해 전체 병원 수 중에서 어느 정도의 비율을 차지하고 있는지 알아보겠습니다.\n",
    "\n",
    "- 서울에 소재한 병원 중 상권업종소분류명에 \"피부\" 나 \"성형\"이 들어간 분류명을 찾아 구해주세요!\n",
    "- 피부과 성형외과 수 / 전체병원 수 로 비율을 구해주세요!\n",
    "- 비율이 높은 순서대로 정렬되게 구해주세요!\n",
    "- 수업에서 사용한 같은 CSV 파일을 사용하며 다음의 결과가 나오도록 구합니다.\n",
    "- 소숫점 두 번째짜리까지 출력하는 방법은 pandas round 로 검색해서 사용법을 알아보세요!\n",
    "\n",
    "| 시군구명   | 수치  |\n",
    "|------------|------|\n",
    "| 강남구     | 0.24 |\n",
    "| 서초구     | 0.17 |\n",
    "| 마포구     | 0.09 |\n",
    "| 영등포구   | 0.08 |\n",
    "| 서대문구   | 0.08 |\n",
    "| 강서구     | 0.07 |\n",
    "| 강동구     | 0.07 |\n",
    "| 중구       | 0.07 |\n",
    "| 양천구     | 0.07 |\n",
    "| 중랑구     | 0.07 |\n",
    "| 성북구     | 0.06 |\n",
    "| 송파구     | 0.06 |\n",
    "| 구로구     | 0.06 |\n",
    "| 은평구     | 0.06 |\n",
    "| 광진구     | 0.06 |\n",
    "| 노원구     | 0.05 |\n",
    "| 성동구     | 0.05 |\n",
    "| 금천구     | 0.05 |\n",
    "| 용산구     | 0.05 |\n",
    "| 강북구     | 0.05 |\n",
    "| 동대문구   | 0.04 |\n",
    "| 동작구     | 0.04 |\n",
    "| 관악구     | 0.04 |\n",
    "| 종로구     | 0.03 |\n",
    "| 도봉구     | 0.02 |\n"
   ]
  },
  {
   "cell_type": "code",
   "execution_count": 78,
   "metadata": {},
   "outputs": [],
   "source": [
    "seoul_df = df[df['시도명'] == '서울특별시'].copy()\n",
    "\n",
    "skin_df = seoul_df[seoul_df['상권업종소분류명'].str.contains(\"피부|성형\")]\n",
    "hospital_df = seoul_df[seoul_df['상권업종중분류명'] == '병원']"
   ]
  },
  {
   "cell_type": "code",
   "execution_count": 111,
   "metadata": {},
   "outputs": [
    {
     "data": {
      "text/plain": [
       "시군구명\n",
       "강남구     0.24\n",
       "서초구     0.17\n",
       "마포구     0.09\n",
       "영등포구    0.08\n",
       "서대문구    0.08\n",
       "강서구     0.07\n",
       "강동구     0.07\n",
       "중구      0.07\n",
       "양천구     0.07\n",
       "중랑구     0.07\n",
       "성북구     0.06\n",
       "송파구     0.06\n",
       "구로구     0.06\n",
       "은평구     0.06\n",
       "광진구     0.06\n",
       "노원구     0.05\n",
       "성동구     0.05\n",
       "금천구     0.05\n",
       "용산구     0.05\n",
       "강북구     0.05\n",
       "동대문구    0.04\n",
       "동작구     0.04\n",
       "관악구     0.04\n",
       "종로구     0.03\n",
       "도봉구     0.02\n",
       "Name: 상권업종소분류명, dtype: float64"
      ]
     },
     "execution_count": 111,
     "metadata": {},
     "output_type": "execute_result"
    }
   ],
   "source": [
    "# Groupby\n",
    "(skin_df.groupby('시군구명')['상권업종소분류명'].count() / hospital_df.groupby('시군구명')['상권업종소분류명'].count()).round(2).sort_values(ascending=False)"
   ]
  },
  {
   "cell_type": "code",
   "execution_count": 108,
   "metadata": {},
   "outputs": [],
   "source": [
    "# Pivot\n",
    "skin_pivot = skin_df.pivot_table(\n",
    "    index='시군구명', \n",
    "    values='상권업종소분류명', \n",
    "    aggfunc='count'\n",
    ").reset_index().rename(columns={'상권업종소분류명': '빈도수'})\n",
    "\n",
    "hospital_pivot = hospital_df.pivot_table(\n",
    "    index='시군구명', \n",
    "    values='상권업종소분류명', \n",
    "    aggfunc='count'\n",
    ").reset_index().rename(columns={'상권업종소분류명': '빈도수'})"
   ]
  },
  {
   "cell_type": "code",
   "execution_count": 109,
   "metadata": {},
   "outputs": [],
   "source": [
    "skin_pivot['빈도수'] = (skin_pivot['빈도수'] / hospital_pivot['빈도수']).round(2)"
   ]
  },
  {
   "cell_type": "code",
   "execution_count": 110,
   "metadata": {},
   "outputs": [
    {
     "data": {
      "text/html": [
       "<div>\n",
       "<style scoped>\n",
       "    .dataframe tbody tr th:only-of-type {\n",
       "        vertical-align: middle;\n",
       "    }\n",
       "\n",
       "    .dataframe tbody tr th {\n",
       "        vertical-align: top;\n",
       "    }\n",
       "\n",
       "    .dataframe thead th {\n",
       "        text-align: right;\n",
       "    }\n",
       "</style>\n",
       "<table border=\"1\" class=\"dataframe\">\n",
       "  <thead>\n",
       "    <tr style=\"text-align: right;\">\n",
       "      <th></th>\n",
       "      <th>시군구명</th>\n",
       "      <th>빈도수</th>\n",
       "    </tr>\n",
       "  </thead>\n",
       "  <tbody>\n",
       "    <tr>\n",
       "      <th>0</th>\n",
       "      <td>강남구</td>\n",
       "      <td>0.24</td>\n",
       "    </tr>\n",
       "    <tr>\n",
       "      <th>14</th>\n",
       "      <td>서초구</td>\n",
       "      <td>0.17</td>\n",
       "    </tr>\n",
       "    <tr>\n",
       "      <th>12</th>\n",
       "      <td>마포구</td>\n",
       "      <td>0.09</td>\n",
       "    </tr>\n",
       "    <tr>\n",
       "      <th>19</th>\n",
       "      <td>영등포구</td>\n",
       "      <td>0.08</td>\n",
       "    </tr>\n",
       "    <tr>\n",
       "      <th>13</th>\n",
       "      <td>서대문구</td>\n",
       "      <td>0.08</td>\n",
       "    </tr>\n",
       "    <tr>\n",
       "      <th>3</th>\n",
       "      <td>강서구</td>\n",
       "      <td>0.07</td>\n",
       "    </tr>\n",
       "    <tr>\n",
       "      <th>1</th>\n",
       "      <td>강동구</td>\n",
       "      <td>0.07</td>\n",
       "    </tr>\n",
       "    <tr>\n",
       "      <th>23</th>\n",
       "      <td>중구</td>\n",
       "      <td>0.07</td>\n",
       "    </tr>\n",
       "    <tr>\n",
       "      <th>18</th>\n",
       "      <td>양천구</td>\n",
       "      <td>0.07</td>\n",
       "    </tr>\n",
       "    <tr>\n",
       "      <th>24</th>\n",
       "      <td>중랑구</td>\n",
       "      <td>0.07</td>\n",
       "    </tr>\n",
       "    <tr>\n",
       "      <th>16</th>\n",
       "      <td>성북구</td>\n",
       "      <td>0.06</td>\n",
       "    </tr>\n",
       "    <tr>\n",
       "      <th>17</th>\n",
       "      <td>송파구</td>\n",
       "      <td>0.06</td>\n",
       "    </tr>\n",
       "    <tr>\n",
       "      <th>6</th>\n",
       "      <td>구로구</td>\n",
       "      <td>0.06</td>\n",
       "    </tr>\n",
       "    <tr>\n",
       "      <th>21</th>\n",
       "      <td>은평구</td>\n",
       "      <td>0.06</td>\n",
       "    </tr>\n",
       "    <tr>\n",
       "      <th>5</th>\n",
       "      <td>광진구</td>\n",
       "      <td>0.06</td>\n",
       "    </tr>\n",
       "    <tr>\n",
       "      <th>8</th>\n",
       "      <td>노원구</td>\n",
       "      <td>0.05</td>\n",
       "    </tr>\n",
       "    <tr>\n",
       "      <th>15</th>\n",
       "      <td>성동구</td>\n",
       "      <td>0.05</td>\n",
       "    </tr>\n",
       "    <tr>\n",
       "      <th>7</th>\n",
       "      <td>금천구</td>\n",
       "      <td>0.05</td>\n",
       "    </tr>\n",
       "    <tr>\n",
       "      <th>20</th>\n",
       "      <td>용산구</td>\n",
       "      <td>0.05</td>\n",
       "    </tr>\n",
       "    <tr>\n",
       "      <th>2</th>\n",
       "      <td>강북구</td>\n",
       "      <td>0.05</td>\n",
       "    </tr>\n",
       "    <tr>\n",
       "      <th>10</th>\n",
       "      <td>동대문구</td>\n",
       "      <td>0.04</td>\n",
       "    </tr>\n",
       "    <tr>\n",
       "      <th>11</th>\n",
       "      <td>동작구</td>\n",
       "      <td>0.04</td>\n",
       "    </tr>\n",
       "    <tr>\n",
       "      <th>4</th>\n",
       "      <td>관악구</td>\n",
       "      <td>0.04</td>\n",
       "    </tr>\n",
       "    <tr>\n",
       "      <th>22</th>\n",
       "      <td>종로구</td>\n",
       "      <td>0.03</td>\n",
       "    </tr>\n",
       "    <tr>\n",
       "      <th>9</th>\n",
       "      <td>도봉구</td>\n",
       "      <td>0.02</td>\n",
       "    </tr>\n",
       "  </tbody>\n",
       "</table>\n",
       "</div>"
      ],
      "text/plain": [
       "    시군구명   빈도수\n",
       "0    강남구  0.24\n",
       "14   서초구  0.17\n",
       "12   마포구  0.09\n",
       "19  영등포구  0.08\n",
       "13  서대문구  0.08\n",
       "3    강서구  0.07\n",
       "1    강동구  0.07\n",
       "23    중구  0.07\n",
       "18   양천구  0.07\n",
       "24   중랑구  0.07\n",
       "16   성북구  0.06\n",
       "17   송파구  0.06\n",
       "6    구로구  0.06\n",
       "21   은평구  0.06\n",
       "5    광진구  0.06\n",
       "8    노원구  0.05\n",
       "15   성동구  0.05\n",
       "7    금천구  0.05\n",
       "20   용산구  0.05\n",
       "2    강북구  0.05\n",
       "10  동대문구  0.04\n",
       "11   동작구  0.04\n",
       "4    관악구  0.04\n",
       "22   종로구  0.03\n",
       "9    도봉구  0.02"
      ]
     },
     "execution_count": 110,
     "metadata": {},
     "output_type": "execute_result"
    }
   ],
   "source": [
    "skin_pivot.sort_values(by='빈도수', ascending=False)"
   ]
  },
  {
   "cell_type": "code",
   "execution_count": 59,
   "metadata": {},
   "outputs": [
    {
     "data": {
      "text/plain": [
       "Series([], Name: count, dtype: int64)"
      ]
     },
     "execution_count": 59,
     "metadata": {},
     "output_type": "execute_result"
    }
   ],
   "source": [
    "df[df['상권업종소분류명'].str.contains(\"피부|성형\") & df['시도명'] == '서울특별시'].groupby(by='시군구명').value_counts()"
   ]
  },
  {
   "cell_type": "markdown",
   "metadata": {},
   "source": [
    "### 📌Q4. 평균 기대수명이 점점 길어지면서 실버 의료 산업도 주목받고 있습니다. 여러분은 실버 의료 산업과 관련된 스타트업에 취업했습니다. 지도를 시각화하여 '노인/치매병원'이 주로 어디에 위치하고 있는지를 찾아보고자 합니다.\n",
    "\n",
    "- folium 을 통해 지도에 전국의 '노인/치매병원'을 표시해 주세요!\n",
    "- 다음과 같이 시각화 하며, folium 의 문서를 참고하여 다른 기능을 사용하여 좀 더 멋지게 지도를 꾸며도 좋습니다.\n",
    "- folium 문서 : https://python-visualization.github.io/folium/quickstart.html"
   ]
  },
  {
   "cell_type": "markdown",
   "metadata": {},
   "source": []
  }
 ],
 "metadata": {
  "kernelspec": {
   "display_name": "tf_cap",
   "language": "python",
   "name": "python3"
  },
  "language_info": {
   "codemirror_mode": {
    "name": "ipython",
    "version": 3
   },
   "file_extension": ".py",
   "mimetype": "text/x-python",
   "name": "python",
   "nbconvert_exporter": "python",
   "pygments_lexer": "ipython3",
   "version": "3.9.18"
  }
 },
 "nbformat": 4,
 "nbformat_minor": 2
}
